{
 "cells": [
  {
   "cell_type": "code",
   "execution_count": 3,
   "metadata": {},
   "outputs": [],
   "source": [
    "import numpy as np\n",
    "import sys"
   ]
  },
  {
   "cell_type": "markdown",
   "metadata": {},
   "source": [
    "# Optimal Paths and Dynamic Programming\n",
    "\n",
    "Let's play a game. You start off at the upper left corner of a large, $N\\times N$ checkerboard. Each square has some number of gold coins on it, and you are only allowed to move to squares adjacent to you own (no diagonals). You're goal is to collect as many gold coins as possible as you make your way to the exit located at the bottom right corner.\n",
    "\n",
    "But there's a catch...\n",
    "\n",
    "Every second that passes brings you closer to a ghastly, untimely demise. As a result, you can't backtrack under any circumstances. Lucky for you, you have a friend that has a nice view of the board, and can communicate in your ear. How can your friend guide you on the path that yields the most bounty without your own downfall?\n",
    "\n",
    "Your friend would like to check *every* allowed path before giving you advice, but you don't have time! Even as you enter the game you can here the fell footsteps of the fell Balgrog making his way toward you. What oh what are you to do! "
   ]
  },
  {
   "cell_type": "markdown",
   "metadata": {},
   "source": [
    "# Dynamic Programming\n",
    "Enter stage-left the hero, the deus ex machina: dynamic programming! This is essentially a brute force method. Just like your friend wanted to do, let's try every path! But let's be clever about it so we stay a step ahead of our impending doom.\n",
    "\n",
    "Dynamic programming is useful when a problem can be broken down in to subproblems. Let us consider our game. We are starting at the point $\\mathcal{O}\\equiv (0,0)$ and want to find the optimal path to $\\mathcal{N}\\equiv (N-1, N-1)$. We denote this $\\mathcal{O}\\rightarrow \\mathcal{N}$. Now suppose the shortest path includes the square $\\mathcal{U}_n\\equiv (i_n,j_n)$ as some intermediary point. Then we also know that $\\mathcal{O}\\rightarrow \\mathcal{U}_n$ is an optimal path.\n",
    "\n",
    "Our goal is then the following. Suppose we have already made it to the point $\\mathcal{U}_n$. Then our approach is to try every path from $\\mathcal{U}_n\\rightarrow \\mathcal{N}$ and take that which gives the highest score.\n",
    "\n",
    "We can describe this in a more concrete way. Suppose the function $F(n,m)$ returns the optimal path to the square indexed by $(n,m)$ and $\\mathcal{G}(n,m)$ is the number of coins on square $(n,m)$. We know that this path must pass through either $(n-1, m)$ or $(n, m-1)$. So, if $F(n,m)$ returns the optimal path. So, we can write $F(n,m)$ recursively:\n",
    "$$\n",
    "  F(n,m) = \\mathcal{G}(n,m) + \\mathrm{max}\\lbrace F(n-1, m), F(n, m-1)\\rbrace.\n",
    "$$\n",
    "\n",
    "\n",
    "In the following cell we implement this recursion."
   ]
  },
  {
   "cell_type": "code",
   "execution_count": 230,
   "metadata": {},
   "outputs": [],
   "source": [
    "def bestPath(coins, n, m):\n",
    "    \"\"\"Returns the maximum number of gold coins attainable while traversing the grid,\n",
    "    assuming no backtracking is allowed. We utilize a dynamic programming algorith:\n",
    "    recursion + memoization.\n",
    "    \n",
    "    It is assumed user will initialize global memo dict before calling function.\"\"\"\n",
    "    memo_key = str(n)+','+str(m)\n",
    "    if memo_key in memo_pad:\n",
    "        return memo_pad[memo_key]\n",
    "    else:\n",
    "        if (n < 0 or m < 0):\n",
    "            # This means we are off the grid. Return negative coins\n",
    "            # so that it will always be less than any square on the grid.\n",
    "            memo_pad[memo_key] = -sys.maxsize\n",
    "            return memo_pad[memo_key]\n",
    "        elif (n==0 and m==0):\n",
    "            # This is our base case. Return the\n",
    "            # number of coins on first square\n",
    "            memo_pad[memo_key] = coins[n, m]\n",
    "            return memo_pad[memo_key]\n",
    "        else:\n",
    "            # Recursively call bestPath\n",
    "            memo_pad[memo_key] = coins[n, m] + max([bestPath(coins, n-1, m), bestPath(coins, n, m-1)])\n",
    "            return memo_pad[memo_key]"
   ]
  },
  {
   "cell_type": "markdown",
   "metadata": {},
   "source": [
    "<blockquote> Note in the above cell we included a memo pad </blockquote>\n",
    "\n",
    "Next we randomly generate a square grid filled with random integers. Each entry of the array represents the number of gold coins on that square."
   ]
  },
  {
   "cell_type": "code",
   "execution_count": 231,
   "metadata": {},
   "outputs": [
    {
     "name": "stdout",
     "output_type": "stream",
     "text": [
      "Congratulations! You survived the trial and collected 1351 gold coins in the process!\n"
     ]
    }
   ],
   "source": [
    "N = 100\n",
    "coins = np.random.randint(0, 10, N**2).reshape(N, N)\n",
    "memo_pad = {}\n",
    "max_score = bestPath(coins, N-1, N-1)\n",
    "print('Congratulations! You survived the trial and collected {} gold coins in the process!'.format(max_score))"
   ]
  },
  {
   "cell_type": "markdown",
   "metadata": {},
   "source": [
    "And that's it! Aside from the Fibonacci numbers, it is probably the simplest example of DP. There are great lectures on this method by Eric Demaine hosted on YouTube. If you are interested in this method, you should check them out!"
   ]
  },
  {
   "cell_type": "markdown",
   "metadata": {},
   "source": [
    "# Finding the actual path\n",
    "The above exercise was fun, but if you think carefully about it, it doesn't help you in your plight. All we did was determine the number of gold points you will get if you take the optimal path, but what you really need to know is what the optimal path is!\n",
    "\n",
    "We can get this information (i.e. right, down, right, right, down,...) by including a parent pointer. Namely, when we calculate the maximum of incoming paths, we also keep track of *which* step that maximum corresponds to. The object we use to do this is called the *parent pointer*. There is a catch to the way we are implementing it, as we will see."
   ]
  },
  {
   "cell_type": "code",
   "execution_count": 232,
   "metadata": {},
   "outputs": [],
   "source": [
    "def bestestPath(coins, n, m):\n",
    "    \"\"\"Returns the maximum number of gold coins attainable while traversing the grid,\n",
    "    assuming no backtracking is allowed. We utilize a dynamic programming algorith:\n",
    "    recursion + memoization. We use a parent pointer to keep track of the best actual\n",
    "    path.\n",
    "    \n",
    "    It is assumed that there exists a global memo and parent dictionary.\"\"\"\n",
    "    memo_key = str(n)+','+str(m)\n",
    "    if memo_key in memo_pad:\n",
    "        return memo_pad[memo_key]\n",
    "    else:\n",
    "        if (n < 0 or m < 0):\n",
    "            # This means we are off the grid. Return negative coins\n",
    "            # so that it will always be less than any square on the grid.\n",
    "            memo_pad[memo_key] = -sys.maxsize\n",
    "            return memo_pad[memo_key]\n",
    "        elif (n==0 and m==0):\n",
    "            # This is our base case. Return the\n",
    "            # number of coins on first square\n",
    "            memo_pad[memo_key] = coins[n, m]\n",
    "            return memo_pad[memo_key]\n",
    "        else:\n",
    "            # Recursively call bestestPath\n",
    "            memo_pad[memo_key] = coins[n, m] + max([bestestPath(coins, n-1, m), bestestPath(coins, n, m-1)])\n",
    "            arg_max = np.argmax([bestestPath(coins, n-1, m), bestestPath(coins, n, m-1)])\n",
    "            #print(memo_key, arg_min)\n",
    "            parent[memo_key] = arg_max\n",
    "            return memo_pad[memo_key]"
   ]
  },
  {
   "cell_type": "code",
   "execution_count": 233,
   "metadata": {},
   "outputs": [
    {
     "name": "stdout",
     "output_type": "stream",
     "text": [
      "Your grid:\n",
      "[[0 8 6]\n",
      " [6 2 1]\n",
      " [1 0 4]]\n",
      "Congratulations! You survived the trial and collected 19 gold coins in the process!\n"
     ]
    }
   ],
   "source": [
    "N = 3\n",
    "coins = np.random.randint(0, 10, N**2).reshape(N, N)\n",
    "coins[0,0] = 0\n",
    "print('Your grid:\\n' + str(coins))\n",
    "memo_pad = {}\n",
    "parent = {}\n",
    "max_score = bestestPath(coins, N-1, N-1)\n",
    "print('Congratulations! You survived the trial and collected {} gold coins in the process!'.format(max_score))"
   ]
  },
  {
   "cell_type": "markdown",
   "metadata": {},
   "source": [
    "We have also printed the grid for our inspection. We can see that the best path is to move down two spaces (collect\n",
    "\n",
    "We have to untangle our parent pointer a little bit. This is not inherent to parent pointers, but is simply a consequence of my limited fluency with dynamic programming. \n",
    "\n",
    "To see what the issue is, let's pring the parent"
   ]
  },
  {
   "cell_type": "code",
   "execution_count": 234,
   "metadata": {},
   "outputs": [
    {
     "data": {
      "text/plain": [
       "{'0,1': 1,\n",
       " '0,2': 1,\n",
       " '1,0': 0,\n",
       " '1,1': 0,\n",
       " '1,2': 0,\n",
       " '2,0': 0,\n",
       " '2,1': 0,\n",
       " '2,2': 0}"
      ]
     },
     "execution_count": 234,
     "metadata": {},
     "output_type": "execute_result"
    }
   ],
   "source": [
    "parent"
   ]
  },
  {
   "cell_type": "markdown",
   "metadata": {},
   "source": [
    "Notice that we have a value for every square in the grid, yet we know the optimal path *cannot* visit every square (it will always be $N-1$ steps). The parent pointer tells us that the optimal path for element $(n,m)$ comes in from the top (0) or the left (1). To interpret the parent, we define a list  `path` and populate it by starting at the last square in the grid $N-1, N-1$ and peform the following:\n",
    "* if the value of parent is 0, then we append an 'r' to the front of path and repeat for the cell to the left.\n",
    "* if the value of parent is 1, then we append a 'd' to the front of path and repeat for the cell above.\n",
    "\n",
    "We write a function that performs this conversion, then check the result against our grid:"
   ]
  },
  {
   "cell_type": "code",
   "execution_count": 235,
   "metadata": {},
   "outputs": [
    {
     "name": "stdout",
     "output_type": "stream",
     "text": [
      "[[0 8 6]\n",
      " [6 2 1]\n",
      " [1 0 4]]\n",
      "right, right, down, down, \n"
     ]
    }
   ],
   "source": [
    "def get_path(parent, N):\n",
    "    path = ''\n",
    "    n,m = (N-1, N-1)\n",
    "    while (n,m) != (0,0):\n",
    "        parent_key = str(n)+','+str(m)\n",
    "        step = parent[parent_key]\n",
    "        if step==1:\n",
    "            path = 'right, '+path\n",
    "            m -= 1\n",
    "        if step==0:\n",
    "            path = 'down, '+path\n",
    "            n -= 1\n",
    "    return path\n",
    "            \n",
    "path = get_path(parent, N)\n",
    "print(coins)\n",
    "print(path)"
   ]
  },
  {
   "cell_type": "markdown",
   "metadata": {},
   "source": [
    "We can verify that this indeed corresponds to the optimal path!"
   ]
  },
  {
   "cell_type": "markdown",
   "metadata": {},
   "source": [
    "# Extensions and Generalizations\n",
    "Some future extensions I would like to implement\n",
    "1. We could enforce the time constraint in a different manner. In the above, the time constraint was accounted for by explicitly forbiding backtracking. This implicitly sets an upper limit on the number of steps taken. We could instead simply set a maximum number of steps and allow backtracking if it still lets one complete the course in the given number of steps. Here are a few thoughts about this possibility:\n",
    "   * If implemented naively, this will lead to closed loops and thus an infinite recursive algorithm.\n",
    "   * It *might* be possible to avoid the infinite loops by removing gold coins as we come across them. It's not clear how to implement this in practice. Furthermore, I think it would make memoization impossible."
   ]
  }
 ],
 "metadata": {
  "kernelspec": {
   "display_name": "Python 3",
   "language": "python",
   "name": "python3"
  },
  "language_info": {
   "codemirror_mode": {
    "name": "ipython",
    "version": 3
   },
   "file_extension": ".py",
   "mimetype": "text/x-python",
   "name": "python",
   "nbconvert_exporter": "python",
   "pygments_lexer": "ipython3",
   "version": "3.7.3"
  }
 },
 "nbformat": 4,
 "nbformat_minor": 2
}
