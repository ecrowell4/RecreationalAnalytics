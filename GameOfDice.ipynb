{
 "cells": [
  {
   "cell_type": "code",
   "execution_count": 5,
   "metadata": {},
   "outputs": [],
   "source": [
    "import numpy as np\n",
    "from collections import Counter\n",
    "import matplotlib.pyplot as plt\n",
    "plt.style.use('ggplot')"
   ]
  },
  {
   "cell_type": "markdown",
   "metadata": {},
   "source": [
    "# A Game of Dice: Farkle!\n",
    "## Rules of Play\n",
    "The rules of the game vary widely, but we will consider a specific case here. The player starts by rolling six dice. The player sets aside dice that are worth points and rolls the remaining dice.  A few important points:\n",
    "1. At least one dice must be set aside after each roll. \n",
    "2. If you can set aside all six dice, then you can roll them all again to continue building up your total. \n",
    "3. A **Farkle** occurs when there are no combinations of dice that are worth points. In this case, you lose all points accumulated that turn and your turn is over. \n",
    "4. You may stop rolling at anytime during your turn, in which case your total gets entered on the score sheet and your turn is over. \n",
    "5. The first player to 10,000 points is declared the winner and gets bragging rights until the next game. \n",
    "\n",
    "There are a couple technical points that don't affect what we will investigate here, but I mention them for completeness. First, to score for the first time, you must score at least 500 points before you stop rolling. This is referred to as 'getting on the board'. Second, once somebody breaks 10,000 points and decides to stop rolling, every other play gets one more turn to try to break that score. If they can do so, then they are declared winner instead."
   ]
  },
  {
   "cell_type": "markdown",
   "metadata": {},
   "source": [
    "## Scoring Combinations\n",
    "Different dice combinations are worth various points. Here is a complete list of scoring combinations.\n",
    "\n",
    "| Dice Combination | Points | Dice Combination | Points\n",
    "| :- | :- | :- | :- |\n",
    "| 6 of  a kind | 3,000 | 4 of a kind with a pair | 1,500\n",
    "| Two triplets | 2,500 | 4 of a kind | 1,000\n",
    "| 5 of a kind | 2,000 | 3 of a kind (excluding 1) | 100$\\times$value of dice\n",
    "| 1-6 straight | 1,500 | Single 1 | 100\n",
    "| 3 pairs | 1,500 | Single 5 | 50\n",
    "\n",
    "## Risk Strategy\n",
    "The universal question of Farkle players: when to stop rolling? Here are a couple limiting cases to illustrate the scope of the question.\n",
    "- **Limiting Case #1** It's the beginning of your turn and you roll all six dice. You can only set aside a single 5, worth 50 points. You have 5 dice left. What do you do? The obvious choice is to keep rolling. With five dice left, you are likely to accrue more points.\n",
    "- **Limiting Case #2** You are several rolls into your turn and have accumulated 3,000 points&mdash;an impressive sum!. You only have one dice available to roll. Should you roll it and risk a Farkle (thereby flushing your bounty down the drain), or should you call it and take your 3,000 points? The obvous answer is to stop rolling! Speaking from experience, it's not very common to get to 3,000 points, and you are more likely than not to Farkle with only one dice being rolled.\n",
    "\n",
    "These are the obvious limiting cases, but what about the cases in the middle? Suppose you have 450 points and have 3 dice left to roll, what should you do? This is the question we seek to answer here."
   ]
  },
  {
   "cell_type": "markdown",
   "metadata": {},
   "source": [
    "## Hacker Statistics\n",
    "To answer this question, we will employ a simple strategy. We will simply play the game many many times, however we will play it a little bit differently. First, there is only one play in this game. Second, there is only one turn per game. Finally, this player is an addiction addict! They keep rolling, whatever the odds, until they Farkle. The player then jots down what score they had before the Farkle occurred. If the player does this millions of times, then we should get a clear idea of what single turn scores are likely and what single turn scores are unlikely.\n",
    "\n",
    "## Decision Trees\n",
    "Before doing this, we have to set some standards for decision making. Different people have different 'strategies' and risk tolerances. Here I lay out how the decisions will be made here. Suppose we just rolled the dice. We start by looking at the most lucrative combinations in the table above and check if this combination is present in our roll. For the first several entries, there is no ambiguity. If you have 6 of a kind, then take it! \n",
    "\n",
    "The abmiguity enters in when we are looking at the 3 of a kinds and below. I have met people that, faced with three ones, will prefer to set aside a single one for 100 points and reserve the remaining two dice for future rolls. After each roll, we implement the following strategry:\n",
    "- Starting from the most lucrative combination in the table above and going down to 3 of a kinds, we check to see if that combination is present in our roll. If so, we take it and set aside the appropriate dice.\n",
    "- We always take a 3 of a kind if present and there's nothing more lucrative.\n",
    "- We always take all 1's that are present if there's nothing more lucrative.\n",
    "- If nothing else is available, but there is at least one 5, then we take exactly one 5. We reserve the remaing dice for future rolls. The exception to this rule is if by taking all fives, we are able to set aside all of the dice and continue rolling with all six. \n",
    "\n",
    "We have defined an object that plays a single turn of Farkle, using this decision tree. The code can be found in `Farkle.py`. Feel free to take a peak!"
   ]
  },
  {
   "cell_type": "code",
   "execution_count": 1,
   "metadata": {},
   "outputs": [],
   "source": [
    "import Farkle"
   ]
  },
  {
   "cell_type": "markdown",
   "metadata": {},
   "source": [
    "## Let's play!\n",
    "We play 100000 games and look at the scores before Farkles occurred. Since we are interested in turn-to-turn decision, we restrict our attention to turns that score less than 1,000 points. This is meant to exclude outliers so we can get a good look at the pertinent data."
   ]
  },
  {
   "cell_type": "code",
   "execution_count": 3,
   "metadata": {},
   "outputs": [],
   "source": [
    "scores = []\n",
    "for i in range(1000000):\n",
    "    #print(i)\n",
    "    Roll = Farkle.FarkleRoll()\n",
    "    scores.append(Roll.play())\n",
    "    i += 1"
   ]
  },
  {
   "cell_type": "code",
   "execution_count": 6,
   "metadata": {},
   "outputs": [
    {
     "data": {
      "image/png": "[encoded data removed]",
      "text/plain": [
       "<Figure size 432x288 with 1 Axes>"
      ]
     },
     "metadata": {
      "needs_background": "light"
     },
     "output_type": "display_data"
    }
   ],
   "source": [
    "filtered = [x for x in scores if x<1000]\n",
    "\n",
    "bins = np.arange(0, max(filtered)+150, 50)-25\n",
    "_ = plt.hist(filtered, bins=bins, color='blue')\n",
    "_ = plt.xlabel('Score before Farkle')\n",
    "_ = plt.ylabel('Number of occurrences')"
   ]
  },
  {
   "cell_type": "code",
   "execution_count": 7,
   "metadata": {},
   "outputs": [
    {
     "name": "stdout",
     "output_type": "stream",
     "text": [
      "Standard deviation of scores = 653.3266023291874\n"
     ]
    }
   ],
   "source": [
    "print('Standard deviation of scores = {}'.format(np.std(scores)))"
   ]
  },
  {
   "cell_type": "markdown",
   "metadata": {},
   "source": [
    "From the histogram, we see that the most common score is 300, though 400 comes in a very close second! How does this affect your Farkle play? Well, if you are below 300 points on your current turn, it's best to keep rolling. Conversely, if you have 500 points and only one dice left to roll, it's in your better interest to stay where you are!\n",
    "\n",
    "Will this help you win?! Probably not... The standard deviation of the distribution is ~650, and remember: that's *per turn*. Unless you and your friends decide to play best out of $10^6$ games, random fluctations are likely to determine the winner :(\n",
    "\n",
    "## The Tails\n",
    "To conclude this EDA, we zoom out and look at the entire distribution. As one might expect, the distribution of scores falls off exponentially beyond approximatly 400."
   ]
  },
  {
   "cell_type": "code",
   "execution_count": 8,
   "metadata": {},
   "outputs": [
    {
     "data": {
      "image/png": "[encoded data removed]",
      "text/plain": [
       "<Figure size 432x288 with 1 Axes>"
      ]
     },
     "metadata": {
      "needs_background": "light"
     },
     "output_type": "display_data"
    }
   ],
   "source": [
    "bins = np.arange(0, max(scores)+150, 50)-25\n",
    "_ = plt.hist(scores, bins=bins, color='blue', density=True)\n",
    "_ = plt.xlabel('Score before Farkle')\n",
    "_ = plt.ylabel('Number of occurrences')"
   ]
  },
  {
   "cell_type": "markdown",
   "metadata": {},
   "source": [
    "## More to Come!\n",
    "There are a couple direction one could take with this.\n",
    "1. How do modifications in the decision tree affect the distribution?\n",
    "2. How many games does one have to play before slight differences in strategy can be resolve?\n",
    "\n",
    "As always, I'm eager for feedback. If the code can be cleaned up, if there are important items I neglected, or if there are interesting directions of inquiry that I passed by, let me know!"
   ]
  }
 ],
 "metadata": {
  "kernelspec": {
   "display_name": "Python 3",
   "language": "python",
   "name": "python3"
  },
  "language_info": {
   "codemirror_mode": {
    "name": "ipython",
    "version": 3
   },
   "file_extension": ".py",
   "mimetype": "text/x-python",
   "name": "python",
   "nbconvert_exporter": "python",
   "pygments_lexer": "ipython3",
   "version": "3.7.3"
  }
 },
 "nbformat": 4,
 "nbformat_minor": 2
}
