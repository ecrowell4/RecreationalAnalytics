{
 "cells": [
  {
   "cell_type": "code",
   "execution_count": 131,
   "metadata": {},
   "outputs": [],
   "source": [
    "import numpy as np\n",
    "import pandas as pd\n",
    "import matplotlib.pyplot as plt\n",
    "plt.style.use('ggplot')\n",
    "\n",
    "import datetime\n",
    "import pandas_datareader.data as web"
   ]
  },
  {
   "cell_type": "markdown",
   "metadata": {},
   "source": [
    "# Musical Chairs\n",
    "Suppose you have 100 people sitting in a circle, numbered consequtively 1,2,$\\dots$,100. Suppose person 1 shoots the person in front of them (person 2) and hands to gun to person 3. Person 3 takes the gun, shoots person 4 and hands the gun to person 5. Who is the last person standing?"
   ]
  },
  {
   "cell_type": "code",
   "execution_count": 141,
   "metadata": {},
   "outputs": [],
   "source": [
    "class MusicalChairs(object):\n",
    "    def __init__(self,N, k):\n",
    "        self.N = N\n",
    "        self.k = k\n",
    "    \n",
    "    def init(self):\n",
    "        self.chairs = np.arange(self.N)\n",
    "    \n",
    "    def play(self):\n",
    "        i = 0\n",
    "        while len(self.chairs) > 1:\n",
    "            n = (i + self.k)%len(self.chairs)\n",
    "            self.chairs = np.delete(self.chairs, n)\n",
    "            i += 1\n",
    "            i = i%(len(self.chairs))\n",
    "            if n < i:\n",
    "                i -= 1\n",
    "        print(self.chairs[0])"
   ]
  },
  {
   "cell_type": "code",
   "execution_count": 142,
   "metadata": {},
   "outputs": [
    {
     "name": "stdout",
     "output_type": "stream",
     "text": [
      "72\n"
     ]
    }
   ],
   "source": [
    "play = MusicalChairs(100, 1)\n",
    "play.init()\n",
    "play.play()"
   ]
  },
  {
   "cell_type": "code",
   "execution_count": 50,
   "metadata": {},
   "outputs": [
    {
     "data": {
      "text/html": [
       "<div>\n",
       "<style scoped>\n",
       "    .dataframe tbody tr th:only-of-type {\n",
       "        vertical-align: middle;\n",
       "    }\n",
       "\n",
       "    .dataframe tbody tr th {\n",
       "        vertical-align: top;\n",
       "    }\n",
       "\n",
       "    .dataframe thead th {\n",
       "        text-align: right;\n",
       "    }\n",
       "</style>\n",
       "<table border=\"1\" class=\"dataframe\">\n",
       "  <thead>\n",
       "    <tr style=\"text-align: right;\">\n",
       "      <th>Symbols</th>\n",
       "      <th>^GSPC</th>\n",
       "      <th>^IXIC</th>\n",
       "    </tr>\n",
       "    <tr>\n",
       "      <th>Date</th>\n",
       "      <th></th>\n",
       "      <th></th>\n",
       "    </tr>\n",
       "  </thead>\n",
       "  <tbody>\n",
       "    <tr>\n",
       "      <th>2001-01-22</th>\n",
       "      <td>1342.900024</td>\n",
       "      <td>2757.909912</td>\n",
       "    </tr>\n",
       "    <tr>\n",
       "      <th>2001-01-23</th>\n",
       "      <td>1360.400024</td>\n",
       "      <td>2840.389893</td>\n",
       "    </tr>\n",
       "    <tr>\n",
       "      <th>2001-01-24</th>\n",
       "      <td>1364.300049</td>\n",
       "      <td>2859.149902</td>\n",
       "    </tr>\n",
       "    <tr>\n",
       "      <th>2001-01-25</th>\n",
       "      <td>1357.510010</td>\n",
       "      <td>2754.280029</td>\n",
       "    </tr>\n",
       "    <tr>\n",
       "      <th>2001-01-26</th>\n",
       "      <td>1354.949951</td>\n",
       "      <td>2781.300049</td>\n",
       "    </tr>\n",
       "  </tbody>\n",
       "</table>\n",
       "</div>"
      ],
      "text/plain": [
       "Symbols           ^GSPC        ^IXIC\n",
       "Date                                \n",
       "2001-01-22  1342.900024  2757.909912\n",
       "2001-01-23  1360.400024  2840.389893\n",
       "2001-01-24  1364.300049  2859.149902\n",
       "2001-01-25  1357.510010  2754.280029\n",
       "2001-01-26  1354.949951  2781.300049"
      ]
     },
     "execution_count": 50,
     "metadata": {},
     "output_type": "execute_result"
    }
   ],
   "source": [
    "# Define time interval\n",
    "start = datetime.datetime(2001, 1, 20)\n",
    "end = datetime.datetime(2020, 1, 11)\n",
    "\n",
    "# Import data\n",
    "df = web.DataReader(['^GSPC', '^IXIC'], 'yahoo', start, end)['Adj Close']\n",
    "\n",
    "# Take a peak at the data\n",
    "df.head()"
   ]
  },
  {
   "cell_type": "code",
   "execution_count": 51,
   "metadata": {},
   "outputs": [
    {
     "data": {
      "text/plain": [
       "<matplotlib.legend.Legend at 0x1d974a4eda0>"
      ]
     },
     "execution_count": 51,
     "metadata": {},
     "output_type": "execute_result"
    },
    {
     "data": {
      "image/png": "[encoded data removed]",
      "text/plain": [
       "<Figure size 432x288 with 1 Axes>"
      ]
     },
     "metadata": {
      "needs_background": "light"
     },
     "output_type": "display_data"
    }
   ],
   "source": [
    "#close_prc = df['Adj Close']\n",
    "\n",
    "plt.figure()\n",
    "df['^GSPC'].plot(label='S&P 500')\n",
    "df['^IXIC'].plot(label='NASDAQ')\n",
    "plt.axvline(pd.to_datetime('2009-01-20'), color='dimgray', linestyle='--', lw=2)\n",
    "plt.axvline(pd.to_datetime('2017-01-20'), color='dimgray', linestyle='--', lw=2)\n",
    "plt.annotate('Obama', (pd.to_datetime('2009-04-02'), 8600))\n",
    "plt.annotate('Trump', (pd.to_datetime('2017-04-02'), 8600))\n",
    "plt.legend()"
   ]
  },
  {
   "cell_type": "code",
   "execution_count": null,
   "metadata": {},
   "outputs": [],
   "source": []
  }
 ],
 "metadata": {
  "kernelspec": {
   "display_name": "Python 3",
   "language": "python",
   "name": "python3"
  },
  "language_info": {
   "codemirror_mode": {
    "name": "ipython",
    "version": 3
   },
   "file_extension": ".py",
   "mimetype": "text/x-python",
   "name": "python",
   "nbconvert_exporter": "python",
   "pygments_lexer": "ipython3",
   "version": "3.7.3"
  }
 },
 "nbformat": 4,
 "nbformat_minor": 2
}
