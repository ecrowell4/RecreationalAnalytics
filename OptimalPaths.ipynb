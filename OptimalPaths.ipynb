{
 "cells": [
  {
   "cell_type": "code",
   "execution_count": 2,
   "metadata": {},
   "outputs": [],
   "source": [
    "import numpy as np\n",
    "import sys"
   ]
  },
  {
   "cell_type": "markdown",
   "metadata": {},
   "source": [
    "# Optimal Paths and Dynamic Programming\n",
    "\n",
    "Let's play a game. You start off at the upper left corner of a large, $N\\times N$ checkerboard. Each square has some number of gold coins on it, and you are only allowed to move to squares adjacent to you own (no diagonals). You're goal is to collect as many gold coins as possible as you make your way to the exit located at the bottom right corner.\n",
    "\n",
    "But there's a catch...\n",
    "\n",
    "Every second that passes brings you closer to a ghastly, untimely demise. As a result, you can't backtrack under any circumstances. Lucky for you, you have a friend that has a nice view of the board, and can communicate in your ear. How can your friend guide you on the path that yields the most bounty without your own downfall?\n",
    "\n",
    "Your friend would like to check *every* possible path without backtracking before giving you advice, but you don't have time! Even as you enter the game you can here the fell footsteps of the fell Balgrog making his way toward you. What oh what are you to do! "
   ]
  },
  {
   "cell_type": "markdown",
   "metadata": {},
   "source": [
    "# Dynamic Programming\n",
    "Enter stage-left the hero, the deus ex machina: dynamic programming! This is essentially a brute force method. Just like your friend wanted to do, let's try every path! But let's be clever about it so we stay ahead of our doom.\n",
    "\n",
    "Dynamic programming is useful when a problem can be broken down in to subproblems. Let us consider our example. We are starting at the point $\\mathcal{O}\\equiv (0,0)$ and want to find the optimal path to $\\mathcal{N}\\equiv (N-1, N-1)$. We denote this $\\mathcal{O}\\rightarrow \\mathcal{N}$. Now suppose the shortest path includes the square $\\mathcal{U}_n\\equiv (i_n,j_n)$ as some intermediary point. Then we also know that $\\mathcal{O}\\rightarrow \\mathcal{U}_n$ is an optimal path.\n",
    "\n",
    "Our goal is then the following. Suppose we have already made it to the point $\\mathcal{U}_n$. Then our approach is to try every path from $\\mathcal{U}_n\\rightarrow \\mathcal{N}$ and take that which gives the highest score.\n",
    "\n",
    "We can describe this in a more concrete way. Suppose the function $F(n,m)$ returns the optimal path to the square indexed by $(n,m)$ and $\\mathcal{G}(n,m)$ is the number of coins on square $(n,m)$. We know that this path must pass through either $(n-1, m)$ or $(n, m-1)$. So, if $F(n,m)$ returns the optimal path. So, we can write $F(n,m)$ recursively:\n",
    "$$\n",
    "  F(n,m) = \\mathcal{G}(n,m) + \\mathrm{max}\\lbrace F(n-1, m), F(n, m-1)\\rbrace.\n",
    "$$\n",
    "\n",
    "\n",
    "We write such a function here:"
   ]
  },
  {
   "cell_type": "code",
   "execution_count": 13,
   "metadata": {},
   "outputs": [],
   "source": [
    "def bestPath(coins, n, m):\n",
    "    if (n < 0 or m < 0):\n",
    "        # This means we are off the grid. Return negative coins\n",
    "        # so that it will always be less than any square on the grid.\n",
    "        return -sys.maxsize\n",
    "    elif (n==0 and m==0):\n",
    "        # This is our base case. Return the\n",
    "        # number of coins on first square\n",
    "        return coins[n, m]\n",
    "    else:\n",
    "        # Recursively call bestPath\n",
    "        return coins[n, m] + max(bestPath(coins, n-1, m), bestPath(coins, n, m-1))"
   ]
  },
  {
   "cell_type": "markdown",
   "metadata": {},
   "source": [
    "Next we randomly generate a square grid filled with random integers. Each entry of the array represents the number of gold coins on that square."
   ]
  },
  {
   "cell_type": "code",
   "execution_count": 15,
   "metadata": {},
   "outputs": [
    {
     "name": "stdout",
     "output_type": "stream",
     "text": [
      "Congratulations! You survived the trial and collected 113 gold coins in the process!\n"
     ]
    }
   ],
   "source": [
    "N = 10\n",
    "coins = np.random.randint(0, 10, N**2).reshape(N, N)\n",
    "max_score = bestPath(coins, N-1, N-1)\n",
    "print('Congratulations! You survived the trial and collected {} gold coins in the process!'.format(max_score))"
   ]
  },
  {
   "cell_type": "markdown",
   "metadata": {},
   "source": [
    "And that's it! Aside from the Fibonacci numbers, it is probably the simplest example of DP. There are great lectures on this method by Eric Demaine hosted on YouTube. If you are interested in this method, you should check them out!"
   ]
  }
 ],
 "metadata": {
  "kernelspec": {
   "display_name": "Python 3",
   "language": "python",
   "name": "python3"
  },
  "language_info": {
   "codemirror_mode": {
    "name": "ipython",
    "version": 3
   },
   "file_extension": ".py",
   "mimetype": "text/x-python",
   "name": "python",
   "nbconvert_exporter": "python",
   "pygments_lexer": "ipython3",
   "version": "3.7.3"
  }
 },
 "nbformat": 4,
 "nbformat_minor": 2
}
